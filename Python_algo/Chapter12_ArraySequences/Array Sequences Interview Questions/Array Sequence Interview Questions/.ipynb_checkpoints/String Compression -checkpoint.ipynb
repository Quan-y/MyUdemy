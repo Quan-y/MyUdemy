{
 "cells": [
  {
   "cell_type": "markdown",
   "metadata": {},
   "source": [
    "# String Compression\n",
    "\n",
    "## Problem\n",
    "\n",
    "Given a string in the form 'AAAABBBBCCCCCDDEEEE' compress it to become 'A4B4C5D2E4'. For this problem, you can falsely \"compress\" strings of single or double letters. For instance, it is okay for 'AAB' to return 'A2B1' even though this technically takes more space. \n",
    "\n",
    "The function should also be case sensitive, so that a string 'AAAaaa' returns 'A3a3'."
   ]
  },
  {
   "cell_type": "markdown",
   "metadata": {},
   "source": [
    "## Solution\n",
    "Fill out your solution below:"
   ]
  },
  {
   "cell_type": "code",
   "execution_count": 19,
   "metadata": {},
   "outputs": [],
   "source": [
    "def compress(s):\n",
    "    res = ''\n",
    "    i = 0\n",
    "    while i < len(s):\n",
    "        if i == len(s) - 1:\n",
    "            res += s[i]\n",
    "            res += '1'\n",
    "            break\n",
    "        if s[i] != s[i+1]:\n",
    "            res += s[i]\n",
    "            res += '1'\n",
    "            i += 1\n",
    "            continue\n",
    "        else:\n",
    "            j = i\n",
    "            while s[j] == s[i]:\n",
    "                if j == len(s) - 1:\n",
    "                    j += 1\n",
    "                    break\n",
    "                j += 1\n",
    "            res += s[i]\n",
    "            res += str(j-i)\n",
    "            i = j\n",
    "    return res"
   ]
  },
  {
   "cell_type": "code",
   "execution_count": 31,
   "metadata": {},
   "outputs": [],
   "source": [
    "def compress2(s):\n",
    "    r = ''\n",
    "    l = len(s)\n",
    "    # special case\n",
    "    if l == 0:\n",
    "        return ''\n",
    "    if l == 1:\n",
    "        return s+'1'\n",
    "    cnt = 1\n",
    "    i = 1\n",
    "    while i < l:\n",
    "        if s[i] == s[i - 1]:\n",
    "            cnt += 1\n",
    "        else:\n",
    "            r += s[i-1] + str(cnt)\n",
    "            cnt = 1\n",
    "        i += 1\n",
    "    r = r + s[i-1] + str(cnt)\n",
    "    return r"
   ]
  },
  {
   "cell_type": "code",
   "execution_count": 32,
   "metadata": {},
   "outputs": [
    {
     "data": {
      "text/plain": [
       "'A5B4C4'"
      ]
     },
     "execution_count": 32,
     "metadata": {},
     "output_type": "execute_result"
    }
   ],
   "source": [
    "# 'A5B4C4'\n",
    "compress2('AAAAABBBBCCCC')"
   ]
  },
  {
   "cell_type": "markdown",
   "metadata": {},
   "source": [
    "### Leetcode 443"
   ]
  },
  {
   "cell_type": "code",
   "execution_count": 55,
   "metadata": {},
   "outputs": [],
   "source": [
    "def compress3(chars):\n",
    "    \"\"\"\n",
    "    :type chars: List[str]\n",
    "    :rtype: int\n",
    "    \"\"\"\n",
    "    l = len(chars)\n",
    "    if l == 0:\n",
    "        return ['']\n",
    "    if l == 1:\n",
    "        return chars\n",
    "    i = 1\n",
    "    count = 1\n",
    "    res = []\n",
    "    while i < l:\n",
    "        if chars[i] == chars[i-1]:\n",
    "            count += 1\n",
    "        else:\n",
    "            res.append(chars[i-1])\n",
    "            if count != 1:\n",
    "                res.append(str(count))\n",
    "            count = 1\n",
    "        i += 1\n",
    "    res.append(chars[i-1])\n",
    "    if count != 1:\n",
    "        res.append(str(count))\n",
    "    return list(''.join(res))"
   ]
  },
  {
   "cell_type": "code",
   "execution_count": 56,
   "metadata": {},
   "outputs": [
    {
     "data": {
      "text/plain": [
       "['a', 'b', '1', '2']"
      ]
     },
     "execution_count": 56,
     "metadata": {},
     "output_type": "execute_result"
    }
   ],
   "source": [
    "compress3([\"a\",\"b\",\"b\",\"b\",\"b\",\"b\",\"b\",\"b\",\"b\",\"b\",\"b\",\"b\",\"b\"])"
   ]
  },
  {
   "cell_type": "markdown",
   "metadata": {},
   "source": [
    "# Test Your Solution"
   ]
  },
  {
   "cell_type": "code",
   "execution_count": 33,
   "metadata": {},
   "outputs": [
    {
     "name": "stdout",
     "output_type": "stream",
     "text": [
      "ALL TEST CASES PASSED\n"
     ]
    }
   ],
   "source": [
    "\"\"\"\n",
    "RUN THIS CELL TO TEST YOUR SOLUTION\n",
    "\"\"\"\n",
    "from nose.tools import assert_equal\n",
    "\n",
    "class TestCompress(object):\n",
    "\n",
    "    def test(self, sol):\n",
    "        assert_equal(sol(''), '')\n",
    "        assert_equal(sol('AABBCC'), 'A2B2C2')\n",
    "        assert_equal(sol('AAABCCDDDDD'), 'A3B1C2D5')\n",
    "        print('ALL TEST CASES PASSED')\n",
    "\n",
    "# Run Tests\n",
    "t = TestCompress()\n",
    "t.test(compress2)"
   ]
  },
  {
   "cell_type": "markdown",
   "metadata": {},
   "source": [
    "## Good Job!"
   ]
  }
 ],
 "metadata": {
  "kernelspec": {
   "display_name": "Python 3",
   "language": "python",
   "name": "python3"
  },
  "language_info": {
   "codemirror_mode": {
    "name": "ipython",
    "version": 3
   },
   "file_extension": ".py",
   "mimetype": "text/x-python",
   "name": "python",
   "nbconvert_exporter": "python",
   "pygments_lexer": "ipython3",
   "version": "3.6.5"
  }
 },
 "nbformat": 4,
 "nbformat_minor": 1
}
