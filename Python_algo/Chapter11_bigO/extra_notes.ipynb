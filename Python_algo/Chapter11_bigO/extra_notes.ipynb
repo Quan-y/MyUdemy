{
 "cells": [
  {
   "cell_type": "markdown",
   "metadata": {},
   "source": [
    "#### General Big O\n",
    "https://stackoverflow.com/questions/487258/what-is-a-plain-english-explanation-of-big-o-notation?page=1&tab=votes#tab-top\n",
    "#### O(logn)\n",
    "https://stackoverflow.com/questions/2307283/what-does-olog-n-mean-exactly\n",
    "#### Cheat Sheet Big O\n",
    "http://bigocheatsheet.com/"
   ]
  }
 ],
 "metadata": {
  "kernelspec": {
   "display_name": "Python 3",
   "language": "python",
   "name": "python3"
  },
  "language_info": {
   "codemirror_mode": {
    "name": "ipython",
    "version": 3
   },
   "file_extension": ".py",
   "mimetype": "text/x-python",
   "name": "python",
   "nbconvert_exporter": "python",
   "pygments_lexer": "ipython3",
   "version": "3.6.5"
  }
 },
 "nbformat": 4,
 "nbformat_minor": 2
}
